{
 "cells": [
  {
   "cell_type": "code",
   "execution_count": null,
   "metadata": {},
   "outputs": [],
   "source": [
    "import pandas as pd\n",
    "import seaborn as sn\n",
    "import matplotlib.pyplot as plt\n",
    "import numpy as np\n",
    "import math"
   ]
  },
  {
   "cell_type": "code",
   "execution_count": null,
   "metadata": {},
   "outputs": [],
   "source": [
    "class Information():\n",
    "    def __init__(self):\n",
    "        print()\n",
    "        \n",
    "    def info():\n",
    "        print(\"Pandas version:\", pd.__version__)\n",
    "        print(\"Numpy version:\", np.__version__)\n",
    "        \n",
    "    def viewdata(data):\n",
    "        data.shape \n",
    "        data.info()\n",
    "        data.head()\n",
    "        data.tail()\n",
    "        data.columns\n",
    "        data.values\n",
    "        data.dtype\n",
    "        \n",
    "    def describe(data):\n",
    "        data.describe()\n",
    "        data.value_counts()\n",
    "        data.mean()\n",
    "        data.unique()\n",
    "    def nulls(data):\n",
    "        data.isna().head()\n",
    "        data.isna().sum()\n",
    "        data.dropna(how = 'any')\n",
    "\n",
    "class Visualize:\n",
    "     def __init__(self):\n",
    "        print()\n",
    "        \n",
    "    def plot(data):\n",
    "        data.plot()\n",
    "    \n",
    "    def histogram(data,x,y):\n",
    "        plt.bar(x,y)\n",
    "        plt.hist(x);\n",
    "        \n",
    "    def scatter(data,x,y):\n",
    "        plt.scatter(x,y)\n",
    "        \n",
    "        "
   ]
  }
 ],
 "metadata": {
  "kernelspec": {
   "display_name": "Python 3",
   "language": "python",
   "name": "python3"
  },
  "language_info": {
   "codemirror_mode": {
    "name": "ipython",
    "version": 3
   },
   "file_extension": ".py",
   "mimetype": "text/x-python",
   "name": "python",
   "nbconvert_exporter": "python",
   "pygments_lexer": "ipython3",
   "version": "3.7.4"
  }
 },
 "nbformat": 4,
 "nbformat_minor": 2
}
