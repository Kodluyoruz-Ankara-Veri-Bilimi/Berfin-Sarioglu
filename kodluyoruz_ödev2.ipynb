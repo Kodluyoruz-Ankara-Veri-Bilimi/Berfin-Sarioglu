{
 "cells": [
  {
   "cell_type": "code",
   "execution_count": 50,
   "metadata": {},
   "outputs": [
    {
     "data": {
      "text/html": [
       "<div>\n",
       "<style scoped>\n",
       "    .dataframe tbody tr th:only-of-type {\n",
       "        vertical-align: middle;\n",
       "    }\n",
       "\n",
       "    .dataframe tbody tr th {\n",
       "        vertical-align: top;\n",
       "    }\n",
       "\n",
       "    .dataframe thead th {\n",
       "        text-align: right;\n",
       "    }\n",
       "</style>\n",
       "<table border=\"1\" class=\"dataframe\">\n",
       "  <thead>\n",
       "    <tr style=\"text-align: right;\">\n",
       "      <th></th>\n",
       "      <th>bad</th>\n",
       "      <th>loan</th>\n",
       "      <th>mortdue</th>\n",
       "      <th>value</th>\n",
       "      <th>reason</th>\n",
       "      <th>job</th>\n",
       "      <th>yoj</th>\n",
       "      <th>derog</th>\n",
       "      <th>delinq</th>\n",
       "      <th>clage</th>\n",
       "      <th>ninq</th>\n",
       "      <th>clno</th>\n",
       "      <th>debtinc</th>\n",
       "    </tr>\n",
       "  </thead>\n",
       "  <tbody>\n",
       "    <tr>\n",
       "      <td>0</td>\n",
       "      <td>0</td>\n",
       "      <td>81200</td>\n",
       "      <td>18834.0</td>\n",
       "      <td>108355.0</td>\n",
       "      <td>HomeImp</td>\n",
       "      <td>NaN</td>\n",
       "      <td>28.0</td>\n",
       "      <td>0.0</td>\n",
       "      <td>0.0</td>\n",
       "      <td>139.14</td>\n",
       "      <td>0.0</td>\n",
       "      <td>14.0</td>\n",
       "      <td>34.042</td>\n",
       "    </tr>\n",
       "    <tr>\n",
       "      <td>1</td>\n",
       "      <td>0</td>\n",
       "      <td>12600</td>\n",
       "      <td>103960.0</td>\n",
       "      <td>127384.0</td>\n",
       "      <td>DebtCon</td>\n",
       "      <td>NaN</td>\n",
       "      <td>2.0</td>\n",
       "      <td>0.0</td>\n",
       "      <td>0.0</td>\n",
       "      <td>129.02</td>\n",
       "      <td>0.0</td>\n",
       "      <td>25.0</td>\n",
       "      <td>34.479</td>\n",
       "    </tr>\n",
       "    <tr>\n",
       "      <td>2</td>\n",
       "      <td>0</td>\n",
       "      <td>18000</td>\n",
       "      <td>46865.0</td>\n",
       "      <td>61266.0</td>\n",
       "      <td>DebtCon</td>\n",
       "      <td>NaN</td>\n",
       "      <td>5.0</td>\n",
       "      <td>0.0</td>\n",
       "      <td>0.0</td>\n",
       "      <td>102.59</td>\n",
       "      <td>2.0</td>\n",
       "      <td>9.0</td>\n",
       "      <td>26.354</td>\n",
       "    </tr>\n",
       "    <tr>\n",
       "      <td>3</td>\n",
       "      <td>0</td>\n",
       "      <td>10300</td>\n",
       "      <td>57676.0</td>\n",
       "      <td>71027.0</td>\n",
       "      <td>DebtCon</td>\n",
       "      <td>NaN</td>\n",
       "      <td>19.0</td>\n",
       "      <td>0.0</td>\n",
       "      <td>0.0</td>\n",
       "      <td>157.52</td>\n",
       "      <td>1.0</td>\n",
       "      <td>11.0</td>\n",
       "      <td>33.992</td>\n",
       "    </tr>\n",
       "    <tr>\n",
       "      <td>4</td>\n",
       "      <td>0</td>\n",
       "      <td>9400</td>\n",
       "      <td>56508.0</td>\n",
       "      <td>78358.0</td>\n",
       "      <td>DebtCon</td>\n",
       "      <td>NaN</td>\n",
       "      <td>17.0</td>\n",
       "      <td>0.0</td>\n",
       "      <td>0.0</td>\n",
       "      <td>141.93</td>\n",
       "      <td>0.0</td>\n",
       "      <td>11.0</td>\n",
       "      <td>32.327</td>\n",
       "    </tr>\n",
       "  </tbody>\n",
       "</table>\n",
       "</div>"
      ],
      "text/plain": [
       "   bad   loan   mortdue     value   reason  job   yoj  derog  delinq   clage  \\\n",
       "0    0  81200   18834.0  108355.0  HomeImp  NaN  28.0    0.0     0.0  139.14   \n",
       "1    0  12600  103960.0  127384.0  DebtCon  NaN   2.0    0.0     0.0  129.02   \n",
       "2    0  18000   46865.0   61266.0  DebtCon  NaN   5.0    0.0     0.0  102.59   \n",
       "3    0  10300   57676.0   71027.0  DebtCon  NaN  19.0    0.0     0.0  157.52   \n",
       "4    0   9400   56508.0   78358.0  DebtCon  NaN  17.0    0.0     0.0  141.93   \n",
       "\n",
       "   ninq  clno  debtinc  \n",
       "0   0.0  14.0   34.042  \n",
       "1   0.0  25.0   34.479  \n",
       "2   2.0   9.0   26.354  \n",
       "3   1.0  11.0   33.992  \n",
       "4   0.0  11.0   32.327  "
      ]
     },
     "execution_count": 50,
     "metadata": {},
     "output_type": "execute_result"
    }
   ],
   "source": [
    "import matplotlib.pyplot as plt\n",
    "import numpy as np\n",
    "import seaborn as sns\n",
    "import pandas as pd\n",
    "cols = [\n",
    "    'bad', 'kredi_mik', 'mevcut_borc', 'mevcut_mülk_değeri', 'reason',\n",
    "    'job', 'çalışılan_sene', 'derogatory_reports', 'ödenmemis_kredi', 'clage',\n",
    "    'son_kredi_sorgu_sayisi', 'kredi_limit_sayisi', 'borç_gelir_oranı'\n",
    "]\n",
    "df = pd.read_csv(r'C:\\Users\\Hp\\Desktop\\kodluyoruz\\ödev_2_kodluyoruz\\hmelq.csv' )\n",
    "dfx = pd.read_csv(r'C:\\Users\\Hp\\Desktop\\kodluyoruz\\ödev_2_kodluyoruz\\hmelq.csv',names=cols )\n",
    "df.head()"
   ]
  },
  {
   "cell_type": "code",
   "execution_count": 51,
   "metadata": {},
   "outputs": [
    {
     "ename": "ModuleNotFoundError",
     "evalue": "No module named 'xgboost'",
     "output_type": "error",
     "traceback": [
      "\u001b[1;31m---------------------------------------------------------------------------\u001b[0m",
      "\u001b[1;31mModuleNotFoundError\u001b[0m                       Traceback (most recent call last)",
      "\u001b[1;32m<ipython-input-51-eede62f47b87>\u001b[0m in \u001b[0;36m<module>\u001b[1;34m\u001b[0m\n\u001b[0;32m     18\u001b[0m \u001b[1;32mfrom\u001b[0m \u001b[0msklearn\u001b[0m\u001b[1;33m.\u001b[0m\u001b[0mensemble\u001b[0m \u001b[1;32mimport\u001b[0m \u001b[0mRandomForestClassifier\u001b[0m\u001b[1;33m\u001b[0m\u001b[1;33m\u001b[0m\u001b[0m\n\u001b[0;32m     19\u001b[0m \u001b[1;32mfrom\u001b[0m \u001b[0msklearn\u001b[0m\u001b[1;33m.\u001b[0m\u001b[0mensemble\u001b[0m \u001b[1;32mimport\u001b[0m \u001b[0mGradientBoostingClassifier\u001b[0m\u001b[1;33m\u001b[0m\u001b[1;33m\u001b[0m\u001b[0m\n\u001b[1;32m---> 20\u001b[1;33m \u001b[1;32mfrom\u001b[0m \u001b[0mxgboost\u001b[0m \u001b[1;32mimport\u001b[0m \u001b[0mXGBClassifier\u001b[0m\u001b[1;33m\u001b[0m\u001b[1;33m\u001b[0m\u001b[0m\n\u001b[0m\u001b[0;32m     21\u001b[0m \u001b[1;32mfrom\u001b[0m \u001b[0mlightgbm\u001b[0m \u001b[1;32mimport\u001b[0m \u001b[0mLGBMClassifier\u001b[0m\u001b[1;33m\u001b[0m\u001b[1;33m\u001b[0m\u001b[0m\n\u001b[0;32m     22\u001b[0m \u001b[1;32mfrom\u001b[0m \u001b[0mcatboost\u001b[0m \u001b[1;32mimport\u001b[0m \u001b[0mCatBoostClassifier\u001b[0m\u001b[1;33m\u001b[0m\u001b[1;33m\u001b[0m\u001b[0m\n",
      "\u001b[1;31mModuleNotFoundError\u001b[0m: No module named 'xgboost'"
     ]
    }
   ],
   "source": [
    "import numpy as np\n",
    "import pandas as pd\n",
    "import statsmodels.api as sm\n",
    "import statsmodels.formula.api as smf\n",
    "import seaborn as sns\n",
    "from sklearn.preprocessing import scale\n",
    "from sklearn.model_selection import train_test_split, GridSearchCV, cross_val_score\n",
    "from sklearn.metrics import confusion_matrix, accuracy_score, classification_report\n",
    "from sklearn.metrics import roc_auc_score,roc_curve\n",
    "import statsmodels.formula.api as smf\n",
    "import matplotlib.pyplot as plt\n",
    "from sklearn.neighbors import KNeighborsClassifier\n",
    "from sklearn.discriminant_analysis import LinearDiscriminantAnalysis\n",
    "from sklearn.linear_model import LogisticRegression\n",
    "from sklearn.svm import SVC\n",
    "from sklearn.naive_bayes import GaussianNB\n",
    "from sklearn import tree\n",
    "from sklearn.ensemble import RandomForestClassifier\n",
    "from sklearn.ensemble import GradientBoostingClassifier\n",
    "from xgboost import XGBClassifier\n",
    "from lightgbm import LGBMClassifier\n",
    "from catboost import CatBoostClassifier\n",
    "\n",
    "from warnings import filterwarnings\n",
    "filterwarnings('ignore')"
   ]
  },
  {
   "cell_type": "code",
   "execution_count": 66,
   "metadata": {},
   "outputs": [
    {
     "data": {
      "text/html": [
       "<div>\n",
       "<style scoped>\n",
       "    .dataframe tbody tr th:only-of-type {\n",
       "        vertical-align: middle;\n",
       "    }\n",
       "\n",
       "    .dataframe tbody tr th {\n",
       "        vertical-align: top;\n",
       "    }\n",
       "\n",
       "    .dataframe thead th {\n",
       "        text-align: right;\n",
       "    }\n",
       "</style>\n",
       "<table border=\"1\" class=\"dataframe\">\n",
       "  <thead>\n",
       "    <tr style=\"text-align: right;\">\n",
       "      <th></th>\n",
       "      <th>loan</th>\n",
       "      <th>mortdue</th>\n",
       "      <th>value</th>\n",
       "      <th>yoj</th>\n",
       "      <th>derog</th>\n",
       "      <th>delinq</th>\n",
       "      <th>clage</th>\n",
       "      <th>ninq</th>\n",
       "      <th>clno</th>\n",
       "      <th>debtinc</th>\n",
       "    </tr>\n",
       "  </thead>\n",
       "  <tbody>\n",
       "    <tr>\n",
       "      <td>count</td>\n",
       "      <td>3576.000000</td>\n",
       "      <td>3576.000000</td>\n",
       "      <td>3576.000000</td>\n",
       "      <td>3576.000000</td>\n",
       "      <td>3576.000000</td>\n",
       "      <td>3576.000000</td>\n",
       "      <td>3576.000000</td>\n",
       "      <td>3576.000000</td>\n",
       "      <td>3576.000000</td>\n",
       "      <td>3576.000000</td>\n",
       "    </tr>\n",
       "    <tr>\n",
       "      <td>mean</td>\n",
       "      <td>18529.697987</td>\n",
       "      <td>74013.907992</td>\n",
       "      <td>101076.922759</td>\n",
       "      <td>8.832644</td>\n",
       "      <td>0.230425</td>\n",
       "      <td>0.390101</td>\n",
       "      <td>179.832529</td>\n",
       "      <td>1.085850</td>\n",
       "      <td>21.451063</td>\n",
       "      <td>65.146784</td>\n",
       "    </tr>\n",
       "    <tr>\n",
       "      <td>std</td>\n",
       "      <td>11262.834060</td>\n",
       "      <td>42039.367757</td>\n",
       "      <td>54371.955751</td>\n",
       "      <td>7.230266</td>\n",
       "      <td>0.816290</td>\n",
       "      <td>1.051780</td>\n",
       "      <td>84.858509</td>\n",
       "      <td>1.686528</td>\n",
       "      <td>9.980645</td>\n",
       "      <td>60.472251</td>\n",
       "    </tr>\n",
       "    <tr>\n",
       "      <td>min</td>\n",
       "      <td>1100.000000</td>\n",
       "      <td>2619.000000</td>\n",
       "      <td>8800.000000</td>\n",
       "      <td>0.000000</td>\n",
       "      <td>0.000000</td>\n",
       "      <td>0.000000</td>\n",
       "      <td>0.490000</td>\n",
       "      <td>0.000000</td>\n",
       "      <td>0.000000</td>\n",
       "      <td>0.720000</td>\n",
       "    </tr>\n",
       "    <tr>\n",
       "      <td>25%</td>\n",
       "      <td>11000.000000</td>\n",
       "      <td>48577.000000</td>\n",
       "      <td>66250.000000</td>\n",
       "      <td>3.000000</td>\n",
       "      <td>0.000000</td>\n",
       "      <td>0.000000</td>\n",
       "      <td>118.000000</td>\n",
       "      <td>0.000000</td>\n",
       "      <td>15.000000</td>\n",
       "      <td>30.681750</td>\n",
       "    </tr>\n",
       "    <tr>\n",
       "      <td>50%</td>\n",
       "      <td>16200.000000</td>\n",
       "      <td>70009.000000</td>\n",
       "      <td>89936.000000</td>\n",
       "      <td>8.000000</td>\n",
       "      <td>0.000000</td>\n",
       "      <td>0.000000</td>\n",
       "      <td>177.855000</td>\n",
       "      <td>0.000000</td>\n",
       "      <td>20.000000</td>\n",
       "      <td>37.156500</td>\n",
       "    </tr>\n",
       "    <tr>\n",
       "      <td>75%</td>\n",
       "      <td>23100.000000</td>\n",
       "      <td>88029.000000</td>\n",
       "      <td>118402.250000</td>\n",
       "      <td>12.000000</td>\n",
       "      <td>0.000000</td>\n",
       "      <td>0.000000</td>\n",
       "      <td>227.100000</td>\n",
       "      <td>2.000000</td>\n",
       "      <td>26.000000</td>\n",
       "      <td>43.002750</td>\n",
       "    </tr>\n",
       "    <tr>\n",
       "      <td>max</td>\n",
       "      <td>89900.000000</td>\n",
       "      <td>399550.000000</td>\n",
       "      <td>850000.000000</td>\n",
       "      <td>41.000000</td>\n",
       "      <td>10.000000</td>\n",
       "      <td>15.000000</td>\n",
       "      <td>1168.230000</td>\n",
       "      <td>17.000000</td>\n",
       "      <td>71.000000</td>\n",
       "      <td>203.312000</td>\n",
       "    </tr>\n",
       "  </tbody>\n",
       "</table>\n",
       "</div>"
      ],
      "text/plain": [
       "               loan        mortdue          value          yoj        derog  \\\n",
       "count   3576.000000    3576.000000    3576.000000  3576.000000  3576.000000   \n",
       "mean   18529.697987   74013.907992  101076.922759     8.832644     0.230425   \n",
       "std    11262.834060   42039.367757   54371.955751     7.230266     0.816290   \n",
       "min     1100.000000    2619.000000    8800.000000     0.000000     0.000000   \n",
       "25%    11000.000000   48577.000000   66250.000000     3.000000     0.000000   \n",
       "50%    16200.000000   70009.000000   89936.000000     8.000000     0.000000   \n",
       "75%    23100.000000   88029.000000  118402.250000    12.000000     0.000000   \n",
       "max    89900.000000  399550.000000  850000.000000    41.000000    10.000000   \n",
       "\n",
       "            delinq        clage         ninq         clno      debtinc  \n",
       "count  3576.000000  3576.000000  3576.000000  3576.000000  3576.000000  \n",
       "mean      0.390101   179.832529     1.085850    21.451063    65.146784  \n",
       "std       1.051780    84.858509     1.686528     9.980645    60.472251  \n",
       "min       0.000000     0.490000     0.000000     0.000000     0.720000  \n",
       "25%       0.000000   118.000000     0.000000    15.000000    30.681750  \n",
       "50%       0.000000   177.855000     0.000000    20.000000    37.156500  \n",
       "75%       0.000000   227.100000     2.000000    26.000000    43.002750  \n",
       "max      15.000000  1168.230000    17.000000    71.000000   203.312000  "
      ]
     },
     "execution_count": 66,
     "metadata": {},
     "output_type": "execute_result"
    }
   ],
   "source": [
    "df.describe()"
   ]
  },
  {
   "cell_type": "code",
   "execution_count": 87,
   "metadata": {},
   "outputs": [
    {
     "data": {
      "text/html": [
       "<div>\n",
       "<style scoped>\n",
       "    .dataframe tbody tr th:only-of-type {\n",
       "        vertical-align: middle;\n",
       "    }\n",
       "\n",
       "    .dataframe tbody tr th {\n",
       "        vertical-align: top;\n",
       "    }\n",
       "\n",
       "    .dataframe thead th {\n",
       "        text-align: right;\n",
       "    }\n",
       "</style>\n",
       "<table border=\"1\" class=\"dataframe\">\n",
       "  <thead>\n",
       "    <tr style=\"text-align: right;\">\n",
       "      <th></th>\n",
       "      <th>bad</th>\n",
       "      <th>loan</th>\n",
       "      <th>mortdue</th>\n",
       "      <th>value</th>\n",
       "      <th>reason</th>\n",
       "      <th>job</th>\n",
       "      <th>yoj</th>\n",
       "      <th>derog</th>\n",
       "      <th>delinq</th>\n",
       "      <th>clage</th>\n",
       "      <th>ninq</th>\n",
       "      <th>clno</th>\n",
       "      <th>debtinc</th>\n",
       "    </tr>\n",
       "  </thead>\n",
       "  <tbody>\n",
       "    <tr>\n",
       "      <td>3571</td>\n",
       "      <td>1</td>\n",
       "      <td>8400</td>\n",
       "      <td>31800.000000</td>\n",
       "      <td>72000.000000</td>\n",
       "      <td>DebtCon</td>\n",
       "      <td>Self</td>\n",
       "      <td>8.832644</td>\n",
       "      <td>0.0</td>\n",
       "      <td>2.0</td>\n",
       "      <td>187.27</td>\n",
       "      <td>1.0</td>\n",
       "      <td>21.0</td>\n",
       "      <td>179.832529</td>\n",
       "    </tr>\n",
       "    <tr>\n",
       "      <td>3572</td>\n",
       "      <td>1</td>\n",
       "      <td>21600</td>\n",
       "      <td>154991.000000</td>\n",
       "      <td>101076.922759</td>\n",
       "      <td>DebtCon</td>\n",
       "      <td>Self</td>\n",
       "      <td>8.832644</td>\n",
       "      <td>2.0</td>\n",
       "      <td>4.0</td>\n",
       "      <td>165.60</td>\n",
       "      <td>0.0</td>\n",
       "      <td>43.0</td>\n",
       "      <td>38.015000</td>\n",
       "    </tr>\n",
       "    <tr>\n",
       "      <td>3573</td>\n",
       "      <td>1</td>\n",
       "      <td>24000</td>\n",
       "      <td>35000.000000</td>\n",
       "      <td>101076.922759</td>\n",
       "      <td>DebtCon</td>\n",
       "      <td>Self</td>\n",
       "      <td>3.000000</td>\n",
       "      <td>1.0</td>\n",
       "      <td>0.0</td>\n",
       "      <td>177.50</td>\n",
       "      <td>0.0</td>\n",
       "      <td>16.0</td>\n",
       "      <td>179.832529</td>\n",
       "    </tr>\n",
       "    <tr>\n",
       "      <td>3574</td>\n",
       "      <td>1</td>\n",
       "      <td>10000</td>\n",
       "      <td>74013.907992</td>\n",
       "      <td>25010.000000</td>\n",
       "      <td>HomeImp</td>\n",
       "      <td>Self</td>\n",
       "      <td>5.000000</td>\n",
       "      <td>0.0</td>\n",
       "      <td>3.0</td>\n",
       "      <td>326.13</td>\n",
       "      <td>4.0</td>\n",
       "      <td>17.0</td>\n",
       "      <td>179.832529</td>\n",
       "    </tr>\n",
       "    <tr>\n",
       "      <td>3575</td>\n",
       "      <td>1</td>\n",
       "      <td>5900</td>\n",
       "      <td>74013.907992</td>\n",
       "      <td>28000.000000</td>\n",
       "      <td>DebtCon</td>\n",
       "      <td>Self</td>\n",
       "      <td>1.000000</td>\n",
       "      <td>2.0</td>\n",
       "      <td>1.0</td>\n",
       "      <td>36.77</td>\n",
       "      <td>1.0</td>\n",
       "      <td>8.0</td>\n",
       "      <td>179.832529</td>\n",
       "    </tr>\n",
       "  </tbody>\n",
       "</table>\n",
       "</div>"
      ],
      "text/plain": [
       "     bad   loan        mortdue          value   reason   job       yoj  derog  \\\n",
       "3571   1   8400   31800.000000   72000.000000  DebtCon  Self  8.832644    0.0   \n",
       "3572   1  21600  154991.000000  101076.922759  DebtCon  Self  8.832644    2.0   \n",
       "3573   1  24000   35000.000000  101076.922759  DebtCon  Self  3.000000    1.0   \n",
       "3574   1  10000   74013.907992   25010.000000  HomeImp  Self  5.000000    0.0   \n",
       "3575   1   5900   74013.907992   28000.000000  DebtCon  Self  1.000000    2.0   \n",
       "\n",
       "      delinq   clage  ninq  clno     debtinc  \n",
       "3571     2.0  187.27   1.0  21.0  179.832529  \n",
       "3572     4.0  165.60   0.0  43.0   38.015000  \n",
       "3573     0.0  177.50   0.0  16.0  179.832529  \n",
       "3574     3.0  326.13   4.0  17.0  179.832529  \n",
       "3575     1.0   36.77   1.0   8.0  179.832529  "
      ]
     },
     "execution_count": 87,
     "metadata": {},
     "output_type": "execute_result"
    }
   ],
   "source": [
    "df.tail()"
   ]
  },
  {
   "cell_type": "code",
   "execution_count": 88,
   "metadata": {},
   "outputs": [
    {
     "data": {
      "text/html": [
       "<div>\n",
       "<style scoped>\n",
       "    .dataframe tbody tr th:only-of-type {\n",
       "        vertical-align: middle;\n",
       "    }\n",
       "\n",
       "    .dataframe tbody tr th {\n",
       "        vertical-align: top;\n",
       "    }\n",
       "\n",
       "    .dataframe thead th {\n",
       "        text-align: right;\n",
       "    }\n",
       "</style>\n",
       "<table border=\"1\" class=\"dataframe\">\n",
       "  <thead>\n",
       "    <tr style=\"text-align: right;\">\n",
       "      <th></th>\n",
       "      <th>bad</th>\n",
       "      <th>loan</th>\n",
       "      <th>mortdue</th>\n",
       "      <th>value</th>\n",
       "      <th>reason</th>\n",
       "      <th>job</th>\n",
       "      <th>yoj</th>\n",
       "      <th>derog</th>\n",
       "      <th>delinq</th>\n",
       "      <th>clage</th>\n",
       "      <th>ninq</th>\n",
       "      <th>clno</th>\n",
       "      <th>debtinc</th>\n",
       "    </tr>\n",
       "  </thead>\n",
       "  <tbody>\n",
       "    <tr>\n",
       "      <td>0</td>\n",
       "      <td>0</td>\n",
       "      <td>81200</td>\n",
       "      <td>18834.0</td>\n",
       "      <td>108355.0</td>\n",
       "      <td>HomeImp</td>\n",
       "      <td>Other</td>\n",
       "      <td>28.0</td>\n",
       "      <td>0.0</td>\n",
       "      <td>0.0</td>\n",
       "      <td>139.14</td>\n",
       "      <td>0.0</td>\n",
       "      <td>14.0</td>\n",
       "      <td>34.042</td>\n",
       "    </tr>\n",
       "    <tr>\n",
       "      <td>1</td>\n",
       "      <td>0</td>\n",
       "      <td>12600</td>\n",
       "      <td>103960.0</td>\n",
       "      <td>127384.0</td>\n",
       "      <td>DebtCon</td>\n",
       "      <td>Other</td>\n",
       "      <td>2.0</td>\n",
       "      <td>0.0</td>\n",
       "      <td>0.0</td>\n",
       "      <td>129.02</td>\n",
       "      <td>0.0</td>\n",
       "      <td>25.0</td>\n",
       "      <td>34.479</td>\n",
       "    </tr>\n",
       "    <tr>\n",
       "      <td>2</td>\n",
       "      <td>0</td>\n",
       "      <td>18000</td>\n",
       "      <td>46865.0</td>\n",
       "      <td>61266.0</td>\n",
       "      <td>DebtCon</td>\n",
       "      <td>Other</td>\n",
       "      <td>5.0</td>\n",
       "      <td>0.0</td>\n",
       "      <td>0.0</td>\n",
       "      <td>102.59</td>\n",
       "      <td>2.0</td>\n",
       "      <td>9.0</td>\n",
       "      <td>26.354</td>\n",
       "    </tr>\n",
       "    <tr>\n",
       "      <td>3</td>\n",
       "      <td>0</td>\n",
       "      <td>10300</td>\n",
       "      <td>57676.0</td>\n",
       "      <td>71027.0</td>\n",
       "      <td>DebtCon</td>\n",
       "      <td>Other</td>\n",
       "      <td>19.0</td>\n",
       "      <td>0.0</td>\n",
       "      <td>0.0</td>\n",
       "      <td>157.52</td>\n",
       "      <td>1.0</td>\n",
       "      <td>11.0</td>\n",
       "      <td>33.992</td>\n",
       "    </tr>\n",
       "    <tr>\n",
       "      <td>4</td>\n",
       "      <td>0</td>\n",
       "      <td>9400</td>\n",
       "      <td>56508.0</td>\n",
       "      <td>78358.0</td>\n",
       "      <td>DebtCon</td>\n",
       "      <td>Other</td>\n",
       "      <td>17.0</td>\n",
       "      <td>0.0</td>\n",
       "      <td>0.0</td>\n",
       "      <td>141.93</td>\n",
       "      <td>0.0</td>\n",
       "      <td>11.0</td>\n",
       "      <td>32.327</td>\n",
       "    </tr>\n",
       "  </tbody>\n",
       "</table>\n",
       "</div>"
      ],
      "text/plain": [
       "  bad   loan   mortdue     value   reason    job   yoj  derog  delinq   clage  \\\n",
       "0   0  81200   18834.0  108355.0  HomeImp  Other  28.0    0.0     0.0  139.14   \n",
       "1   0  12600  103960.0  127384.0  DebtCon  Other   2.0    0.0     0.0  129.02   \n",
       "2   0  18000   46865.0   61266.0  DebtCon  Other   5.0    0.0     0.0  102.59   \n",
       "3   0  10300   57676.0   71027.0  DebtCon  Other  19.0    0.0     0.0  157.52   \n",
       "4   0   9400   56508.0   78358.0  DebtCon  Other  17.0    0.0     0.0  141.93   \n",
       "\n",
       "   ninq  clno  debtinc  \n",
       "0   0.0  14.0   34.042  \n",
       "1   0.0  25.0   34.479  \n",
       "2   2.0   9.0   26.354  \n",
       "3   1.0  11.0   33.992  \n",
       "4   0.0  11.0   32.327  "
      ]
     },
     "execution_count": 88,
     "metadata": {},
     "output_type": "execute_result"
    }
   ],
   "source": [
    "df.head()"
   ]
  },
  {
   "cell_type": "code",
   "execution_count": 143,
   "metadata": {},
   "outputs": [
    {
     "data": {
      "text/html": [
       "<div>\n",
       "<style scoped>\n",
       "    .dataframe tbody tr th:only-of-type {\n",
       "        vertical-align: middle;\n",
       "    }\n",
       "\n",
       "    .dataframe tbody tr th {\n",
       "        vertical-align: top;\n",
       "    }\n",
       "\n",
       "    .dataframe thead th {\n",
       "        text-align: right;\n",
       "    }\n",
       "</style>\n",
       "<table border=\"1\" class=\"dataframe\">\n",
       "  <thead>\n",
       "    <tr style=\"text-align: right;\">\n",
       "      <th></th>\n",
       "      <th>bad</th>\n",
       "      <th>kredi_mik</th>\n",
       "      <th>mevcut_borc</th>\n",
       "      <th>mevcut_mülk_değeri</th>\n",
       "      <th>reason</th>\n",
       "      <th>job</th>\n",
       "      <th>çalışılan_sene</th>\n",
       "      <th>derogatory_reports</th>\n",
       "      <th>ödenmemis_kredi</th>\n",
       "      <th>clage</th>\n",
       "      <th>son_kredi_sorgu_sayisi</th>\n",
       "      <th>kredi_limit_sayisi</th>\n",
       "      <th>borç_gelir_oranı</th>\n",
       "    </tr>\n",
       "  </thead>\n",
       "  <tbody>\n",
       "    <tr>\n",
       "      <td>0</td>\n",
       "      <td>bad</td>\n",
       "      <td>loan</td>\n",
       "      <td>mortdue</td>\n",
       "      <td>value</td>\n",
       "      <td>reason</td>\n",
       "      <td>job</td>\n",
       "      <td>yoj</td>\n",
       "      <td>derog</td>\n",
       "      <td>delinq</td>\n",
       "      <td>clage</td>\n",
       "      <td>ninq</td>\n",
       "      <td>clno</td>\n",
       "      <td>debtinc</td>\n",
       "    </tr>\n",
       "    <tr>\n",
       "      <td>1</td>\n",
       "      <td>0</td>\n",
       "      <td>81200</td>\n",
       "      <td>18834</td>\n",
       "      <td>108355</td>\n",
       "      <td>HomeImp</td>\n",
       "      <td>NaN</td>\n",
       "      <td>28</td>\n",
       "      <td>0</td>\n",
       "      <td>0</td>\n",
       "      <td>139.14</td>\n",
       "      <td>0</td>\n",
       "      <td>14</td>\n",
       "      <td>34.042</td>\n",
       "    </tr>\n",
       "    <tr>\n",
       "      <td>2</td>\n",
       "      <td>0</td>\n",
       "      <td>12600</td>\n",
       "      <td>103960</td>\n",
       "      <td>127384</td>\n",
       "      <td>DebtCon</td>\n",
       "      <td>NaN</td>\n",
       "      <td>2</td>\n",
       "      <td>0</td>\n",
       "      <td>0</td>\n",
       "      <td>129.02</td>\n",
       "      <td>0</td>\n",
       "      <td>25</td>\n",
       "      <td>34.479</td>\n",
       "    </tr>\n",
       "    <tr>\n",
       "      <td>3</td>\n",
       "      <td>0</td>\n",
       "      <td>18000</td>\n",
       "      <td>46865</td>\n",
       "      <td>61266</td>\n",
       "      <td>DebtCon</td>\n",
       "      <td>NaN</td>\n",
       "      <td>5</td>\n",
       "      <td>0</td>\n",
       "      <td>0</td>\n",
       "      <td>102.59</td>\n",
       "      <td>2</td>\n",
       "      <td>9</td>\n",
       "      <td>26.354</td>\n",
       "    </tr>\n",
       "    <tr>\n",
       "      <td>4</td>\n",
       "      <td>0</td>\n",
       "      <td>10300</td>\n",
       "      <td>57676</td>\n",
       "      <td>71027</td>\n",
       "      <td>DebtCon</td>\n",
       "      <td>NaN</td>\n",
       "      <td>19</td>\n",
       "      <td>0</td>\n",
       "      <td>0</td>\n",
       "      <td>157.52</td>\n",
       "      <td>1</td>\n",
       "      <td>11</td>\n",
       "      <td>33.992</td>\n",
       "    </tr>\n",
       "  </tbody>\n",
       "</table>\n",
       "</div>"
      ],
      "text/plain": [
       "   bad kredi_mik mevcut_borc mevcut_mülk_değeri   reason  job çalışılan_sene  \\\n",
       "0  bad      loan     mortdue              value   reason  job            yoj   \n",
       "1    0     81200       18834             108355  HomeImp  NaN             28   \n",
       "2    0     12600      103960             127384  DebtCon  NaN              2   \n",
       "3    0     18000       46865              61266  DebtCon  NaN              5   \n",
       "4    0     10300       57676              71027  DebtCon  NaN             19   \n",
       "\n",
       "  derogatory_reports ödenmemis_kredi   clage son_kredi_sorgu_sayisi  \\\n",
       "0              derog          delinq   clage                   ninq   \n",
       "1                  0               0  139.14                      0   \n",
       "2                  0               0  129.02                      0   \n",
       "3                  0               0  102.59                      2   \n",
       "4                  0               0  157.52                      1   \n",
       "\n",
       "  kredi_limit_sayisi borç_gelir_oranı  \n",
       "0               clno          debtinc  \n",
       "1                 14           34.042  \n",
       "2                 25           34.479  \n",
       "3                  9           26.354  \n",
       "4                 11           33.992  "
      ]
     },
     "execution_count": 143,
     "metadata": {},
     "output_type": "execute_result"
    }
   ],
   "source": [
    "dfx.head()"
   ]
  },
  {
   "cell_type": "code",
   "execution_count": 37,
   "metadata": {},
   "outputs": [
    {
     "name": "stdout",
     "output_type": "stream",
     "text": [
      "<class 'pandas.core.frame.DataFrame'>\n",
      "RangeIndex: 3576 entries, 0 to 3575\n",
      "Data columns (total 13 columns):\n",
      "bad        3576 non-null int64\n",
      "loan       3576 non-null int64\n",
      "mortdue    3262 non-null float64\n",
      "value      3512 non-null float64\n",
      "reason     3429 non-null object\n",
      "job        3409 non-null object\n",
      "yoj        3264 non-null float64\n",
      "derog      3149 non-null float64\n",
      "delinq     3225 non-null float64\n",
      "clage      3397 non-null float64\n",
      "ninq       3273 non-null float64\n",
      "clno       3443 non-null float64\n",
      "debtinc    2809 non-null float64\n",
      "dtypes: float64(9), int64(2), object(2)\n",
      "memory usage: 363.3+ KB\n"
     ]
    }
   ],
   "source": [
    "df.info()\n"
   ]
  },
  {
   "cell_type": "code",
   "execution_count": 55,
   "metadata": {},
   "outputs": [
    {
     "name": "stdout",
     "output_type": "stream",
     "text": [
      "<class 'pandas.core.frame.DataFrame'>\n",
      "RangeIndex: 3576 entries, 0 to 3575\n",
      "Data columns (total 13 columns):\n",
      "bad        3576 non-null int64\n",
      "loan       3576 non-null int64\n",
      "mortdue    3576 non-null float64\n",
      "value      3576 non-null float64\n",
      "reason     3576 non-null object\n",
      "job        3576 non-null object\n",
      "yoj        3576 non-null float64\n",
      "derog      3576 non-null float64\n",
      "delinq     3576 non-null float64\n",
      "clage      3576 non-null float64\n",
      "ninq       3576 non-null float64\n",
      "clno       3576 non-null float64\n",
      "debtinc    3576 non-null float64\n",
      "dtypes: float64(9), int64(2), object(2)\n",
      "memory usage: 363.3+ KB\n"
     ]
    }
   ],
   "source": [
    "#df.bad = df.bad.astype(object)\n",
    "df.info()"
   ]
  },
  {
   "cell_type": "code",
   "execution_count": null,
   "metadata": {},
   "outputs": [],
   "source": [
    "df.reason.value_counts()\n",
    "df.job.value_counts()"
   ]
  },
  {
   "cell_type": "code",
   "execution_count": 52,
   "metadata": {},
   "outputs": [],
   "source": [
    "##Missing values\n",
    "\n",
    "df.clno.fillna(df.clno.median(), inplace=True)\n",
    "df['derog'].fillna(value = 0,inplace = True)\n",
    "df.clage.fillna(df.clage.mean(), inplace=True)\n",
    "df.debtinc.fillna(df.clage.mean(), inplace=True)\n",
    "df['ninq'].fillna(value = 0,inplace = True)\n",
    "df['delinq'].fillna(value = 0,inplace = True)\n",
    "df.value.fillna(df.value.mean(), inplace=True)\n",
    "df.mortdue.fillna(df.mortdue.mean(), inplace=True)\n",
    "df['reason'].fillna(value = 'DebtCon',inplace = True)\n",
    "df['job'].fillna(value = 'Other',inplace = True)\n",
    "df.yoj.fillna(df.yoj.mean(), inplace=True)"
   ]
  },
  {
   "cell_type": "code",
   "execution_count": 4,
   "metadata": {},
   "outputs": [
    {
     "data": {
      "text/plain": [
       "bad        0\n",
       "loan       0\n",
       "mortdue    0\n",
       "value      0\n",
       "reason     0\n",
       "job        0\n",
       "yoj        0\n",
       "derog      0\n",
       "delinq     0\n",
       "clage      0\n",
       "ninq       0\n",
       "clno       0\n",
       "debtinc    0\n",
       "dtype: int64"
      ]
     },
     "execution_count": 4,
     "metadata": {},
     "output_type": "execute_result"
    }
   ],
   "source": [
    "df.isna().sum()"
   ]
  },
  {
   "cell_type": "code",
   "execution_count": 144,
   "metadata": {},
   "outputs": [
    {
     "data": {
      "text/html": [
       "<div>\n",
       "<style scoped>\n",
       "    .dataframe tbody tr th:only-of-type {\n",
       "        vertical-align: middle;\n",
       "    }\n",
       "\n",
       "    .dataframe tbody tr th {\n",
       "        vertical-align: top;\n",
       "    }\n",
       "\n",
       "    .dataframe thead th {\n",
       "        text-align: right;\n",
       "    }\n",
       "</style>\n",
       "<table border=\"1\" class=\"dataframe\">\n",
       "  <thead>\n",
       "    <tr style=\"text-align: right;\">\n",
       "      <th></th>\n",
       "      <th>loan</th>\n",
       "      <th>mortdue</th>\n",
       "      <th>value</th>\n",
       "      <th>yoj</th>\n",
       "      <th>derog</th>\n",
       "      <th>delinq</th>\n",
       "      <th>clage</th>\n",
       "      <th>ninq</th>\n",
       "      <th>clno</th>\n",
       "      <th>debtinc</th>\n",
       "    </tr>\n",
       "  </thead>\n",
       "  <tbody>\n",
       "    <tr>\n",
       "      <td>loan</td>\n",
       "      <td>1.000000</td>\n",
       "      <td>0.217712</td>\n",
       "      <td>0.333597</td>\n",
       "      <td>0.117563</td>\n",
       "      <td>0.005027</td>\n",
       "      <td>-0.016308</td>\n",
       "      <td>0.087312</td>\n",
       "      <td>0.059479</td>\n",
       "      <td>0.094188</td>\n",
       "      <td>-0.085718</td>\n",
       "    </tr>\n",
       "    <tr>\n",
       "      <td>mortdue</td>\n",
       "      <td>0.217712</td>\n",
       "      <td>1.000000</td>\n",
       "      <td>0.801734</td>\n",
       "      <td>-0.083948</td>\n",
       "      <td>-0.050266</td>\n",
       "      <td>-0.003888</td>\n",
       "      <td>0.132132</td>\n",
       "      <td>0.029534</td>\n",
       "      <td>0.320977</td>\n",
       "      <td>-0.047166</td>\n",
       "    </tr>\n",
       "    <tr>\n",
       "      <td>value</td>\n",
       "      <td>0.333597</td>\n",
       "      <td>0.801734</td>\n",
       "      <td>1.000000</td>\n",
       "      <td>0.002329</td>\n",
       "      <td>-0.049308</td>\n",
       "      <td>-0.001834</td>\n",
       "      <td>0.178965</td>\n",
       "      <td>0.006075</td>\n",
       "      <td>0.286443</td>\n",
       "      <td>-0.038986</td>\n",
       "    </tr>\n",
       "    <tr>\n",
       "      <td>yoj</td>\n",
       "      <td>0.117563</td>\n",
       "      <td>-0.083948</td>\n",
       "      <td>0.002329</td>\n",
       "      <td>1.000000</td>\n",
       "      <td>-0.062947</td>\n",
       "      <td>0.072602</td>\n",
       "      <td>0.174704</td>\n",
       "      <td>-0.052171</td>\n",
       "      <td>0.017991</td>\n",
       "      <td>-0.021485</td>\n",
       "    </tr>\n",
       "    <tr>\n",
       "      <td>derog</td>\n",
       "      <td>0.005027</td>\n",
       "      <td>-0.050266</td>\n",
       "      <td>-0.049308</td>\n",
       "      <td>-0.062947</td>\n",
       "      <td>1.000000</td>\n",
       "      <td>0.189147</td>\n",
       "      <td>-0.081743</td>\n",
       "      <td>0.136388</td>\n",
       "      <td>0.039735</td>\n",
       "      <td>0.185673</td>\n",
       "    </tr>\n",
       "    <tr>\n",
       "      <td>delinq</td>\n",
       "      <td>-0.016308</td>\n",
       "      <td>-0.003888</td>\n",
       "      <td>-0.001834</td>\n",
       "      <td>0.072602</td>\n",
       "      <td>0.189147</td>\n",
       "      <td>1.000000</td>\n",
       "      <td>0.045382</td>\n",
       "      <td>0.081721</td>\n",
       "      <td>0.149054</td>\n",
       "      <td>0.235507</td>\n",
       "    </tr>\n",
       "    <tr>\n",
       "      <td>clage</td>\n",
       "      <td>0.087312</td>\n",
       "      <td>0.132132</td>\n",
       "      <td>0.178965</td>\n",
       "      <td>0.174704</td>\n",
       "      <td>-0.081743</td>\n",
       "      <td>0.045382</td>\n",
       "      <td>1.000000</td>\n",
       "      <td>-0.105281</td>\n",
       "      <td>0.215665</td>\n",
       "      <td>-0.079912</td>\n",
       "    </tr>\n",
       "    <tr>\n",
       "      <td>ninq</td>\n",
       "      <td>0.059479</td>\n",
       "      <td>0.029534</td>\n",
       "      <td>0.006075</td>\n",
       "      <td>-0.052171</td>\n",
       "      <td>0.136388</td>\n",
       "      <td>0.081721</td>\n",
       "      <td>-0.105281</td>\n",
       "      <td>1.000000</td>\n",
       "      <td>0.097289</td>\n",
       "      <td>0.168590</td>\n",
       "    </tr>\n",
       "    <tr>\n",
       "      <td>clno</td>\n",
       "      <td>0.094188</td>\n",
       "      <td>0.320977</td>\n",
       "      <td>0.286443</td>\n",
       "      <td>0.017991</td>\n",
       "      <td>0.039735</td>\n",
       "      <td>0.149054</td>\n",
       "      <td>0.215665</td>\n",
       "      <td>0.097289</td>\n",
       "      <td>1.000000</td>\n",
       "      <td>0.037555</td>\n",
       "    </tr>\n",
       "    <tr>\n",
       "      <td>debtinc</td>\n",
       "      <td>-0.085718</td>\n",
       "      <td>-0.047166</td>\n",
       "      <td>-0.038986</td>\n",
       "      <td>-0.021485</td>\n",
       "      <td>0.185673</td>\n",
       "      <td>0.235507</td>\n",
       "      <td>-0.079912</td>\n",
       "      <td>0.168590</td>\n",
       "      <td>0.037555</td>\n",
       "      <td>1.000000</td>\n",
       "    </tr>\n",
       "  </tbody>\n",
       "</table>\n",
       "</div>"
      ],
      "text/plain": [
       "             loan   mortdue     value       yoj     derog    delinq     clage  \\\n",
       "loan     1.000000  0.217712  0.333597  0.117563  0.005027 -0.016308  0.087312   \n",
       "mortdue  0.217712  1.000000  0.801734 -0.083948 -0.050266 -0.003888  0.132132   \n",
       "value    0.333597  0.801734  1.000000  0.002329 -0.049308 -0.001834  0.178965   \n",
       "yoj      0.117563 -0.083948  0.002329  1.000000 -0.062947  0.072602  0.174704   \n",
       "derog    0.005027 -0.050266 -0.049308 -0.062947  1.000000  0.189147 -0.081743   \n",
       "delinq  -0.016308 -0.003888 -0.001834  0.072602  0.189147  1.000000  0.045382   \n",
       "clage    0.087312  0.132132  0.178965  0.174704 -0.081743  0.045382  1.000000   \n",
       "ninq     0.059479  0.029534  0.006075 -0.052171  0.136388  0.081721 -0.105281   \n",
       "clno     0.094188  0.320977  0.286443  0.017991  0.039735  0.149054  0.215665   \n",
       "debtinc -0.085718 -0.047166 -0.038986 -0.021485  0.185673  0.235507 -0.079912   \n",
       "\n",
       "             ninq      clno   debtinc  \n",
       "loan     0.059479  0.094188 -0.085718  \n",
       "mortdue  0.029534  0.320977 -0.047166  \n",
       "value    0.006075  0.286443 -0.038986  \n",
       "yoj     -0.052171  0.017991 -0.021485  \n",
       "derog    0.136388  0.039735  0.185673  \n",
       "delinq   0.081721  0.149054  0.235507  \n",
       "clage   -0.105281  0.215665 -0.079912  \n",
       "ninq     1.000000  0.097289  0.168590  \n",
       "clno     0.097289  1.000000  0.037555  \n",
       "debtinc  0.168590  0.037555  1.000000  "
      ]
     },
     "execution_count": 144,
     "metadata": {},
     "output_type": "execute_result"
    }
   ],
   "source": [
    "df.corr()"
   ]
  },
  {
   "cell_type": "code",
   "execution_count": 149,
   "metadata": {},
   "outputs": [
    {
     "data": {
      "text/plain": [
       "<matplotlib.collections.PathCollection at 0x1d8a5da2f48>"
      ]
     },
     "execution_count": 149,
     "metadata": {},
     "output_type": "execute_result"
    },
    {
     "data": {
      "image/png": "[encoded data removed]",
      "text/plain": [
       "<Figure size 432x288 with 1 Axes>"
      ]
     },
     "metadata": {
      "needs_background": "light"
     },
     "output_type": "display_data"
    }
   ],
   "source": [
    "plt.scatter(x='value' , y='mortdue' ,data=df)"
   ]
  },
  {
   "cell_type": "code",
   "execution_count": 150,
   "metadata": {},
   "outputs": [
    {
     "data": {
      "text/html": [
       "<div>\n",
       "<style scoped>\n",
       "    .dataframe tbody tr th:only-of-type {\n",
       "        vertical-align: middle;\n",
       "    }\n",
       "\n",
       "    .dataframe tbody tr th {\n",
       "        vertical-align: top;\n",
       "    }\n",
       "\n",
       "    .dataframe thead th {\n",
       "        text-align: right;\n",
       "    }\n",
       "</style>\n",
       "<table border=\"1\" class=\"dataframe\">\n",
       "  <thead>\n",
       "    <tr style=\"text-align: right;\">\n",
       "      <th>job</th>\n",
       "      <th>Mgr</th>\n",
       "      <th>Office</th>\n",
       "      <th>Other</th>\n",
       "      <th>ProfEx</th>\n",
       "      <th>Sales</th>\n",
       "      <th>Self</th>\n",
       "    </tr>\n",
       "  </thead>\n",
       "  <tbody>\n",
       "    <tr>\n",
       "      <td>odedi</td>\n",
       "      <td>0.098993</td>\n",
       "      <td>0.138143</td>\n",
       "      <td>0.350112</td>\n",
       "      <td>0.178691</td>\n",
       "      <td>0.012025</td>\n",
       "      <td>0.022651</td>\n",
       "    </tr>\n",
       "    <tr>\n",
       "      <td>odemedi</td>\n",
       "      <td>0.029922</td>\n",
       "      <td>0.020973</td>\n",
       "      <td>0.096756</td>\n",
       "      <td>0.035794</td>\n",
       "      <td>0.006432</td>\n",
       "      <td>0.009508</td>\n",
       "    </tr>\n",
       "  </tbody>\n",
       "</table>\n",
       "</div>"
      ],
      "text/plain": [
       "job           Mgr    Office     Other    ProfEx     Sales      Self\n",
       "odedi    0.098993  0.138143  0.350112  0.178691  0.012025  0.022651\n",
       "odemedi  0.029922  0.020973  0.096756  0.035794  0.006432  0.009508"
      ]
     },
     "execution_count": 150,
     "metadata": {},
     "output_type": "execute_result"
    }
   ],
   "source": [
    "bad_credit =  pd.crosstab(index = df[\"bad\"], columns = df[\"job\"] , normalize = True )\n",
    "bad_credit.index= [\"odedi\",\"odemedi\"]\n",
    "bad_credit"
   ]
  },
  {
   "cell_type": "code",
   "execution_count": 151,
   "metadata": {},
   "outputs": [
    {
     "data": {
      "text/plain": [
       "DebtCon    2518\n",
       "HomeImp    1058\n",
       "Name: reason, dtype: int64"
      ]
     },
     "execution_count": 151,
     "metadata": {},
     "output_type": "execute_result"
    }
   ],
   "source": [
    "df['reason'].value_counts()"
   ]
  },
  {
   "cell_type": "code",
   "execution_count": 152,
   "metadata": {},
   "outputs": [
    {
     "data": {
      "text/html": [
       "<div>\n",
       "<style scoped>\n",
       "    .dataframe tbody tr th:only-of-type {\n",
       "        vertical-align: middle;\n",
       "    }\n",
       "\n",
       "    .dataframe tbody tr th {\n",
       "        vertical-align: top;\n",
       "    }\n",
       "\n",
       "    .dataframe thead th {\n",
       "        text-align: right;\n",
       "    }\n",
       "</style>\n",
       "<table border=\"1\" class=\"dataframe\">\n",
       "  <thead>\n",
       "    <tr style=\"text-align: right;\">\n",
       "      <th>reason</th>\n",
       "      <th>DebtCon</th>\n",
       "      <th>HomeImp</th>\n",
       "    </tr>\n",
       "  </thead>\n",
       "  <tbody>\n",
       "    <tr>\n",
       "      <td>odedi</td>\n",
       "      <td>0.572987</td>\n",
       "      <td>0.227629</td>\n",
       "    </tr>\n",
       "    <tr>\n",
       "      <td>odemedi</td>\n",
       "      <td>0.131152</td>\n",
       "      <td>0.068233</td>\n",
       "    </tr>\n",
       "  </tbody>\n",
       "</table>\n",
       "</div>"
      ],
      "text/plain": [
       "reason    DebtCon   HomeImp\n",
       "odedi    0.572987  0.227629\n",
       "odemedi  0.131152  0.068233"
      ]
     },
     "execution_count": 152,
     "metadata": {},
     "output_type": "execute_result"
    }
   ],
   "source": [
    "bad_credit =  pd.crosstab(index = df[\"bad\"], columns = df[\"reason\"], normalize = True)\n",
    "bad_credit.index= [\"odedi\",\"odemedi\"]\n",
    "bad_credit"
   ]
  },
  {
   "cell_type": "code",
   "execution_count": 153,
   "metadata": {},
   "outputs": [
    {
     "data": {
      "text/html": [
       "<div>\n",
       "<style scoped>\n",
       "    .dataframe tbody tr th:only-of-type {\n",
       "        vertical-align: middle;\n",
       "    }\n",
       "\n",
       "    .dataframe tbody tr th {\n",
       "        vertical-align: top;\n",
       "    }\n",
       "\n",
       "    .dataframe thead th {\n",
       "        text-align: right;\n",
       "    }\n",
       "</style>\n",
       "<table border=\"1\" class=\"dataframe\">\n",
       "  <thead>\n",
       "    <tr style=\"text-align: right;\">\n",
       "      <th>job</th>\n",
       "      <th>Mgr</th>\n",
       "      <th>Office</th>\n",
       "      <th>Other</th>\n",
       "      <th>ProfEx</th>\n",
       "      <th>Sales</th>\n",
       "      <th>Self</th>\n",
       "    </tr>\n",
       "  </thead>\n",
       "  <tbody>\n",
       "    <tr>\n",
       "      <td>debtcon</td>\n",
       "      <td>0.099832</td>\n",
       "      <td>0.109340</td>\n",
       "      <td>0.319351</td>\n",
       "      <td>0.145134</td>\n",
       "      <td>0.016779</td>\n",
       "      <td>0.013702</td>\n",
       "    </tr>\n",
       "    <tr>\n",
       "      <td>homelmp</td>\n",
       "      <td>0.029083</td>\n",
       "      <td>0.049776</td>\n",
       "      <td>0.127517</td>\n",
       "      <td>0.069351</td>\n",
       "      <td>0.001678</td>\n",
       "      <td>0.018456</td>\n",
       "    </tr>\n",
       "  </tbody>\n",
       "</table>\n",
       "</div>"
      ],
      "text/plain": [
       "job           Mgr    Office     Other    ProfEx     Sales      Self\n",
       "debtcon  0.099832  0.109340  0.319351  0.145134  0.016779  0.013702\n",
       "homelmp  0.029083  0.049776  0.127517  0.069351  0.001678  0.018456"
      ]
     },
     "execution_count": 153,
     "metadata": {},
     "output_type": "execute_result"
    }
   ],
   "source": [
    "bad_credit =  pd.crosstab(index = df[\"reason\"], columns = df[\"job\"], normalize = True)\n",
    "bad_credit.index= [\"debtcon\",\"homelmp\"]\n",
    "bad_credit"
   ]
  },
  {
   "cell_type": "code",
   "execution_count": null,
   "metadata": {},
   "outputs": [],
   "source": [
    "loan = df['loan']"
   ]
  },
  {
   "cell_type": "code",
   "execution_count": 129,
   "metadata": {},
   "outputs": [],
   "source": [
    "birler = df[df.bad > 0 ]['loan']"
   ]
  },
  {
   "cell_type": "code",
   "execution_count": 126,
   "metadata": {},
   "outputs": [],
   "source": [
    "sıfırlar = df[df.bad < 1 ]['loan']"
   ]
  },
  {
   "cell_type": "code",
   "execution_count": 137,
   "metadata": {},
   "outputs": [
    {
     "data": {
      "text/plain": [
       "(0.8642619848251343, 2.403162984699039e-24)"
      ]
     },
     "execution_count": 137,
     "metadata": {},
     "output_type": "execute_result"
    }
   ],
   "source": [
    "shapiro(birler) #p < 0.05 Ho red normal dagıldıgını reddettim"
   ]
  },
  {
   "cell_type": "code",
   "execution_count": 139,
   "metadata": {},
   "outputs": [
    {
     "data": {
      "text/plain": [
       "(0.8353631496429443, 0.0)"
      ]
     },
     "execution_count": 139,
     "metadata": {},
     "output_type": "execute_result"
    }
   ],
   "source": [
    "shapiro(sıfırlar)"
   ]
  },
  {
   "cell_type": "code",
   "execution_count": 140,
   "metadata": {},
   "outputs": [
    {
     "data": {
      "text/plain": [
       "LeveneResult(statistic=6.342735297730182, pvalue=0.011829622490936536)"
      ]
     },
     "execution_count": 140,
     "metadata": {},
     "output_type": "execute_result"
    }
   ],
   "source": [
    "levene(sıfırlar , birler) ## varyanslar homojen degil"
   ]
  },
  {
   "cell_type": "code",
   "execution_count": 141,
   "metadata": {},
   "outputs": [
    {
     "data": {
      "text/plain": [
       "Ttest_indResult(statistic=-4.088942403943692, pvalue=4.669150032338557e-05)"
      ]
     },
     "execution_count": 141,
     "metadata": {},
     "output_type": "execute_result"
    }
   ],
   "source": [
    "stats.ttest_ind(birler ,sıfırlar, equal_var = False )"
   ]
  },
  {
   "cell_type": "code",
   "execution_count": 47,
   "metadata": {},
   "outputs": [],
   "source": [
    "##df.groupby(['bad','reason'])[['value']].mean().sort_values('value', ascending=False)"
   ]
  },
  {
   "cell_type": "code",
   "execution_count": 5,
   "metadata": {},
   "outputs": [],
   "source": [
    "dfa = df.copy()"
   ]
  },
  {
   "cell_type": "code",
   "execution_count": 19,
   "metadata": {},
   "outputs": [],
   "source": [
    "#from sklearn.preprocessing import LabelEncoder\n",
    "#y = LabelEncoder().fit_transform(df['bad'])"
   ]
  },
  {
   "cell_type": "code",
   "execution_count": 6,
   "metadata": {},
   "outputs": [
    {
     "data": {
      "text/plain": [
       "0    2863\n",
       "1     713\n",
       "Name: bad, dtype: int64"
      ]
     },
     "execution_count": 6,
     "metadata": {},
     "output_type": "execute_result"
    }
   ],
   "source": [
    "dfa['bad'].value_counts()"
   ]
  },
  {
   "cell_type": "code",
   "execution_count": 54,
   "metadata": {},
   "outputs": [
    {
     "name": "stdout",
     "output_type": "stream",
     "text": [
      "<class 'pandas.core.frame.DataFrame'>\n",
      "RangeIndex: 3576 entries, 0 to 3575\n",
      "Data columns (total 13 columns):\n",
      "bad        3576 non-null int64\n",
      "loan       3576 non-null int64\n",
      "mortdue    3576 non-null float64\n",
      "value      3576 non-null float64\n",
      "reason     3576 non-null object\n",
      "job        3576 non-null object\n",
      "yoj        3576 non-null float64\n",
      "derog      3576 non-null float64\n",
      "delinq     3576 non-null float64\n",
      "clage      3576 non-null float64\n",
      "ninq       3576 non-null float64\n",
      "clno       3576 non-null float64\n",
      "debtinc    3576 non-null float64\n",
      "dtypes: float64(9), int64(2), object(2)\n",
      "memory usage: 363.3+ KB\n"
     ]
    }
   ],
   "source": [
    "#y = LabelEncoder().fit_transform(df['bad'])\n",
    "#X=dfa.drop(['bad','reason','job'], axis = 1)\n",
    "df.info()"
   ]
  },
  {
   "cell_type": "code",
   "execution_count": 56,
   "metadata": {},
   "outputs": [],
   "source": [
    "df=pd.get_dummies(df, columns = [\"job\",\"reason\"], drop_first = True)"
   ]
  },
  {
   "cell_type": "code",
   "execution_count": 57,
   "metadata": {},
   "outputs": [],
   "source": [
    "y = df['bad']\n",
    "X=df.drop(['bad'], axis = 1)"
   ]
  },
  {
   "cell_type": "code",
   "execution_count": 58,
   "metadata": {},
   "outputs": [
    {
     "name": "stdout",
     "output_type": "stream",
     "text": [
      "Optimization terminated successfully.\n",
      "         Current function value: 0.320421\n",
      "         Iterations 7\n"
     ]
    },
    {
     "data": {
      "text/html": [
       "<table class=\"simpletable\">\n",
       "<caption>Logit Regression Results</caption>\n",
       "<tr>\n",
       "  <th>Dep. Variable:</th>          <td>bad</td>       <th>  No. Observations:  </th>   <td>  3576</td>  \n",
       "</tr>\n",
       "<tr>\n",
       "  <th>Model:</th>                 <td>Logit</td>      <th>  Df Residuals:      </th>   <td>  3560</td>  \n",
       "</tr>\n",
       "<tr>\n",
       "  <th>Method:</th>                 <td>MLE</td>       <th>  Df Model:          </th>   <td>    15</td>  \n",
       "</tr>\n",
       "<tr>\n",
       "  <th>Date:</th>            <td>Wed, 05 Aug 2020</td> <th>  Pseudo R-squ.:     </th>   <td>0.3586</td>  \n",
       "</tr>\n",
       "<tr>\n",
       "  <th>Time:</th>                <td>22:20:33</td>     <th>  Log-Likelihood:    </th>  <td> -1145.8</td> \n",
       "</tr>\n",
       "<tr>\n",
       "  <th>converged:</th>             <td>True</td>       <th>  LL-Null:           </th>  <td> -1786.4</td> \n",
       "</tr>\n",
       "<tr>\n",
       "  <th>Covariance Type:</th>     <td>nonrobust</td>    <th>  LLR p-value:       </th> <td>6.064e-264</td>\n",
       "</tr>\n",
       "</table>\n",
       "<table class=\"simpletable\">\n",
       "<tr>\n",
       "         <td></td>           <th>coef</th>     <th>std err</th>      <th>z</th>      <th>P>|z|</th>  <th>[0.025</th>    <th>0.975]</th>  \n",
       "</tr>\n",
       "<tr>\n",
       "  <th>loan</th>           <td>-1.512e-05</td> <td> 5.48e-06</td> <td>   -2.757</td> <td> 0.006</td> <td>-2.59e-05</td> <td>-4.37e-06</td>\n",
       "</tr>\n",
       "<tr>\n",
       "  <th>mortdue</th>        <td>-4.667e-06</td> <td> 2.04e-06</td> <td>   -2.288</td> <td> 0.022</td> <td>-8.66e-06</td> <td> -6.7e-07</td>\n",
       "</tr>\n",
       "<tr>\n",
       "  <th>value</th>          <td> 1.093e-06</td> <td> 1.58e-06</td> <td>    0.693</td> <td> 0.488</td> <td>   -2e-06</td> <td> 4.18e-06</td>\n",
       "</tr>\n",
       "<tr>\n",
       "  <th>yoj</th>            <td>   -0.0317</td> <td>    0.008</td> <td>   -3.805</td> <td> 0.000</td> <td>   -0.048</td> <td>   -0.015</td>\n",
       "</tr>\n",
       "<tr>\n",
       "  <th>derog</th>          <td>    0.4130</td> <td>    0.066</td> <td>    6.239</td> <td> 0.000</td> <td>    0.283</td> <td>    0.543</td>\n",
       "</tr>\n",
       "<tr>\n",
       "  <th>delinq</th>         <td>    0.7096</td> <td>    0.057</td> <td>   12.365</td> <td> 0.000</td> <td>    0.597</td> <td>    0.822</td>\n",
       "</tr>\n",
       "<tr>\n",
       "  <th>clage</th>          <td>   -0.0076</td> <td>    0.001</td> <td>   -9.722</td> <td> 0.000</td> <td>   -0.009</td> <td>   -0.006</td>\n",
       "</tr>\n",
       "<tr>\n",
       "  <th>ninq</th>           <td>    0.0719</td> <td>    0.030</td> <td>    2.425</td> <td> 0.015</td> <td>    0.014</td> <td>    0.130</td>\n",
       "</tr>\n",
       "<tr>\n",
       "  <th>clno</th>           <td>   -0.0305</td> <td>    0.006</td> <td>   -5.063</td> <td> 0.000</td> <td>   -0.042</td> <td>   -0.019</td>\n",
       "</tr>\n",
       "<tr>\n",
       "  <th>debtinc</th>        <td>    0.0178</td> <td>    0.001</td> <td>   22.787</td> <td> 0.000</td> <td>    0.016</td> <td>    0.019</td>\n",
       "</tr>\n",
       "<tr>\n",
       "  <th>job_Office</th>     <td>   -1.4259</td> <td>    0.189</td> <td>   -7.536</td> <td> 0.000</td> <td>   -1.797</td> <td>   -1.055</td>\n",
       "</tr>\n",
       "<tr>\n",
       "  <th>job_Other</th>      <td>   -0.8218</td> <td>    0.130</td> <td>   -6.318</td> <td> 0.000</td> <td>   -1.077</td> <td>   -0.567</td>\n",
       "</tr>\n",
       "<tr>\n",
       "  <th>job_ProfEx</th>     <td>   -0.7645</td> <td>    0.174</td> <td>   -4.398</td> <td> 0.000</td> <td>   -1.105</td> <td>   -0.424</td>\n",
       "</tr>\n",
       "<tr>\n",
       "  <th>job_Sales</th>      <td>    0.2782</td> <td>    0.357</td> <td>    0.780</td> <td> 0.435</td> <td>   -0.421</td> <td>    0.977</td>\n",
       "</tr>\n",
       "<tr>\n",
       "  <th>job_Self</th>       <td>   -0.1145</td> <td>    0.312</td> <td>   -0.367</td> <td> 0.713</td> <td>   -0.725</td> <td>    0.496</td>\n",
       "</tr>\n",
       "<tr>\n",
       "  <th>reason_HomeImp</th> <td>    0.0256</td> <td>    0.120</td> <td>    0.213</td> <td> 0.831</td> <td>   -0.210</td> <td>    0.261</td>\n",
       "</tr>\n",
       "</table>"
      ],
      "text/plain": [
       "<class 'statsmodels.iolib.summary.Summary'>\n",
       "\"\"\"\n",
       "                           Logit Regression Results                           \n",
       "==============================================================================\n",
       "Dep. Variable:                    bad   No. Observations:                 3576\n",
       "Model:                          Logit   Df Residuals:                     3560\n",
       "Method:                           MLE   Df Model:                           15\n",
       "Date:                Wed, 05 Aug 2020   Pseudo R-squ.:                  0.3586\n",
       "Time:                        22:20:33   Log-Likelihood:                -1145.8\n",
       "converged:                       True   LL-Null:                       -1786.4\n",
       "Covariance Type:            nonrobust   LLR p-value:                6.064e-264\n",
       "==================================================================================\n",
       "                     coef    std err          z      P>|z|      [0.025      0.975]\n",
       "----------------------------------------------------------------------------------\n",
       "loan           -1.512e-05   5.48e-06     -2.757      0.006   -2.59e-05   -4.37e-06\n",
       "mortdue        -4.667e-06   2.04e-06     -2.288      0.022   -8.66e-06    -6.7e-07\n",
       "value           1.093e-06   1.58e-06      0.693      0.488      -2e-06    4.18e-06\n",
       "yoj               -0.0317      0.008     -3.805      0.000      -0.048      -0.015\n",
       "derog              0.4130      0.066      6.239      0.000       0.283       0.543\n",
       "delinq             0.7096      0.057     12.365      0.000       0.597       0.822\n",
       "clage             -0.0076      0.001     -9.722      0.000      -0.009      -0.006\n",
       "ninq               0.0719      0.030      2.425      0.015       0.014       0.130\n",
       "clno              -0.0305      0.006     -5.063      0.000      -0.042      -0.019\n",
       "debtinc            0.0178      0.001     22.787      0.000       0.016       0.019\n",
       "job_Office        -1.4259      0.189     -7.536      0.000      -1.797      -1.055\n",
       "job_Other         -0.8218      0.130     -6.318      0.000      -1.077      -0.567\n",
       "job_ProfEx        -0.7645      0.174     -4.398      0.000      -1.105      -0.424\n",
       "job_Sales          0.2782      0.357      0.780      0.435      -0.421       0.977\n",
       "job_Self          -0.1145      0.312     -0.367      0.713      -0.725       0.496\n",
       "reason_HomeImp     0.0256      0.120      0.213      0.831      -0.210       0.261\n",
       "==================================================================================\n",
       "\"\"\""
      ]
     },
     "execution_count": 58,
     "metadata": {},
     "output_type": "execute_result"
    }
   ],
   "source": [
    "loj = sm.Logit(y, X)\n",
    "loj_model= loj.fit()\n",
    "loj_model.summary()"
   ]
  },
  {
   "cell_type": "code",
   "execution_count": 59,
   "metadata": {},
   "outputs": [
    {
     "data": {
      "text/plain": [
       "LogisticRegression(C=1.0, class_weight=None, dual=False, fit_intercept=True,\n",
       "                   intercept_scaling=1, l1_ratio=None, max_iter=100,\n",
       "                   multi_class='warn', n_jobs=None, penalty='l2',\n",
       "                   random_state=None, solver='liblinear', tol=0.0001, verbose=0,\n",
       "                   warm_start=False)"
      ]
     },
     "execution_count": 59,
     "metadata": {},
     "output_type": "execute_result"
    }
   ],
   "source": [
    "from sklearn.linear_model import LogisticRegression\n",
    "loj = LogisticRegression(solver = 'liblinear')\n",
    "loj_model = loj.fit(X,y)\n",
    "loj_model"
   ]
  },
  {
   "cell_type": "code",
   "execution_count": 60,
   "metadata": {},
   "outputs": [
    {
     "data": {
      "text/plain": [
       "array([-0.00122101])"
      ]
     },
     "execution_count": 60,
     "metadata": {},
     "output_type": "execute_result"
    }
   ],
   "source": [
    "loj_model.intercept_"
   ]
  },
  {
   "cell_type": "code",
   "execution_count": 62,
   "metadata": {},
   "outputs": [
    {
     "data": {
      "text/plain": [
       "array([[-2.22405626e-05, -6.68756825e-06, -3.26185943e-08,\n",
       "        -1.00348417e-02,  2.52481980e-03,  5.20567477e-03,\n",
       "        -9.48212374e-03,  1.68192543e-03, -1.03785320e-02,\n",
       "         1.79468618e-02, -6.21189630e-04, -6.90785077e-04,\n",
       "        -1.87813965e-04,  1.05832009e-04,  1.37828090e-04,\n",
       "        -2.24447145e-04]])"
      ]
     },
     "execution_count": 62,
     "metadata": {},
     "output_type": "execute_result"
    }
   ],
   "source": [
    "loj_model.coef_"
   ]
  },
  {
   "cell_type": "code",
   "execution_count": 63,
   "metadata": {},
   "outputs": [],
   "source": [
    "y_pred = loj_model.predict(X)"
   ]
  },
  {
   "cell_type": "code",
   "execution_count": 64,
   "metadata": {},
   "outputs": [
    {
     "data": {
      "text/plain": [
       "array([[2665,  198],\n",
       "       [ 348,  365]], dtype=int64)"
      ]
     },
     "execution_count": 64,
     "metadata": {},
     "output_type": "execute_result"
    }
   ],
   "source": [
    "confusion_matrix(y,y_pred)"
   ]
  },
  {
   "cell_type": "code",
   "execution_count": 65,
   "metadata": {},
   "outputs": [
    {
     "data": {
      "text/plain": [
       "0.8473154362416108"
      ]
     },
     "execution_count": 65,
     "metadata": {},
     "output_type": "execute_result"
    }
   ],
   "source": [
    "accuracy_score(y,y_pred)"
   ]
  },
  {
   "cell_type": "code",
   "execution_count": 66,
   "metadata": {},
   "outputs": [
    {
     "name": "stdout",
     "output_type": "stream",
     "text": [
      "              precision    recall  f1-score   support\n",
      "\n",
      "           0       0.88      0.93      0.91      2863\n",
      "           1       0.65      0.51      0.57       713\n",
      "\n",
      "    accuracy                           0.85      3576\n",
      "   macro avg       0.77      0.72      0.74      3576\n",
      "weighted avg       0.84      0.85      0.84      3576\n",
      "\n"
     ]
    }
   ],
   "source": [
    "print(classification_report(y,y_pred))"
   ]
  },
  {
   "cell_type": "code",
   "execution_count": 67,
   "metadata": {},
   "outputs": [
    {
     "data": {
      "text/plain": [
       "array([0, 0, 0, 0, 0, 0, 0, 0, 0, 0], dtype=int64)"
      ]
     },
     "execution_count": 67,
     "metadata": {},
     "output_type": "execute_result"
    }
   ],
   "source": [
    "loj_model.predict(X)[0:10]"
   ]
  },
  {
   "cell_type": "code",
   "execution_count": 68,
   "metadata": {},
   "outputs": [
    {
     "data": {
      "text/plain": [
       "array([[0.95573256, 0.04426744],\n",
       "       [0.8659558 , 0.1340442 ],\n",
       "       [0.79538072, 0.20461928],\n",
       "       [0.85884585, 0.14115415],\n",
       "       [0.83778188, 0.16221812],\n",
       "       [0.77996489, 0.22003511],\n",
       "       [0.9546202 , 0.0453798 ],\n",
       "       [0.8944304 , 0.1055696 ],\n",
       "       [0.92170122, 0.07829878],\n",
       "       [0.86782386, 0.13217614]])"
      ]
     },
     "execution_count": 68,
     "metadata": {},
     "output_type": "execute_result"
    }
   ],
   "source": [
    "loj_model.predict_proba(X)[0:10][:,0:2]"
   ]
  },
  {
   "cell_type": "code",
   "execution_count": 69,
   "metadata": {},
   "outputs": [
    {
     "data": {
      "text/plain": [
       "0    0\n",
       "1    0\n",
       "2    0\n",
       "3    0\n",
       "4    0\n",
       "5    0\n",
       "6    0\n",
       "7    0\n",
       "8    0\n",
       "9    0\n",
       "Name: bad, dtype: int64"
      ]
     },
     "execution_count": 69,
     "metadata": {},
     "output_type": "execute_result"
    }
   ],
   "source": [
    "y[0:10]"
   ]
  },
  {
   "cell_type": "code",
   "execution_count": 70,
   "metadata": {},
   "outputs": [],
   "source": [
    "y_probs = loj_model.predict_proba(X)\n",
    "y_probs = y_probs[:,1]"
   ]
  },
  {
   "cell_type": "code",
   "execution_count": 71,
   "metadata": {},
   "outputs": [
    {
     "data": {
      "text/plain": [
       "array([0.04426744, 0.1340442 , 0.20461928, 0.14115415, 0.16221812,\n",
       "       0.22003511, 0.0453798 , 0.1055696 , 0.07829878, 0.13217614])"
      ]
     },
     "execution_count": 71,
     "metadata": {},
     "output_type": "execute_result"
    }
   ],
   "source": [
    "y_probs[0:10]"
   ]
  },
  {
   "cell_type": "code",
   "execution_count": 72,
   "metadata": {},
   "outputs": [],
   "source": [
    "y_pred = [1 if i > 0.4 else 0 for i in y_probs]"
   ]
  },
  {
   "cell_type": "code",
   "execution_count": 73,
   "metadata": {},
   "outputs": [
    {
     "data": {
      "text/plain": [
       "[0, 0, 0, 0, 0, 0, 0, 0, 0, 0]"
      ]
     },
     "execution_count": 73,
     "metadata": {},
     "output_type": "execute_result"
    }
   ],
   "source": [
    "y_pred[0:10]"
   ]
  },
  {
   "cell_type": "code",
   "execution_count": 74,
   "metadata": {},
   "outputs": [
    {
     "data": {
      "text/plain": [
       "array([[2615,  248],\n",
       "       [ 300,  413]], dtype=int64)"
      ]
     },
     "execution_count": 74,
     "metadata": {},
     "output_type": "execute_result"
    }
   ],
   "source": [
    "confusion_matrix(y,y_pred)"
   ]
  },
  {
   "cell_type": "code",
   "execution_count": 75,
   "metadata": {},
   "outputs": [
    {
     "data": {
      "text/plain": [
       "0.8467561521252797"
      ]
     },
     "execution_count": 75,
     "metadata": {},
     "output_type": "execute_result"
    }
   ],
   "source": [
    "accuracy_score(y,y_pred)"
   ]
  },
  {
   "cell_type": "code",
   "execution_count": 76,
   "metadata": {},
   "outputs": [
    {
     "name": "stdout",
     "output_type": "stream",
     "text": [
      "              precision    recall  f1-score   support\n",
      "\n",
      "           0       0.90      0.91      0.91      2863\n",
      "           1       0.62      0.58      0.60       713\n",
      "\n",
      "    accuracy                           0.85      3576\n",
      "   macro avg       0.76      0.75      0.75      3576\n",
      "weighted avg       0.84      0.85      0.84      3576\n",
      "\n"
     ]
    }
   ],
   "source": [
    "print(classification_report(y,y_pred))"
   ]
  },
  {
   "cell_type": "code",
   "execution_count": 77,
   "metadata": {},
   "outputs": [
    {
     "data": {
      "text/plain": [
       "array([0.04426744, 0.1340442 , 0.20461928, 0.14115415, 0.16221812])"
      ]
     },
     "execution_count": 77,
     "metadata": {},
     "output_type": "execute_result"
    }
   ],
   "source": [
    "loj_model.predict_proba(X)[:,1][0:5]"
   ]
  },
  {
   "cell_type": "code",
   "execution_count": 78,
   "metadata": {},
   "outputs": [
    {
     "data": {
      "image/png": "[encoded data removed]",
      "text/plain": [
       "<Figure size 432x288 with 1 Axes>"
      ]
     },
     "metadata": {
      "needs_background": "light"
     },
     "output_type": "display_data"
    }
   ],
   "source": [
    "logit_roc_auc = roc_auc_score(y,loj_model.predict(X))\n",
    "\n",
    "fpr, tpr, thresholds = roc_curve(y,loj_model.predict_proba(X)[:,1] )\n",
    "plt.figure()\n",
    "plt.plot(fpr, tpr, label='AUC (area = %0.2f)' % logit_roc_auc)\n",
    "plt.plot([0, 1], [0, 1],'r--')\n",
    "plt.xlim([0.0, 1.0])\n",
    "plt.ylim([0.0, 1.05])\n",
    "plt.xlabel('False Positive Oranı')\n",
    "plt.ylabel('True Positive Oranı')\n",
    "plt.title('ROC')\n",
    "plt.show()\n"
   ]
  },
  {
   "cell_type": "code",
   "execution_count": 79,
   "metadata": {},
   "outputs": [
    {
     "data": {
      "text/plain": [
       "0.7213816164940414"
      ]
     },
     "execution_count": 79,
     "metadata": {},
     "output_type": "execute_result"
    }
   ],
   "source": [
    "logit_roc_auc"
   ]
  },
  {
   "cell_type": "code",
   "execution_count": 80,
   "metadata": {},
   "outputs": [],
   "source": [
    "X_train,X_test,y_train,y_test = train_test_split(X,y,test_size=0.20, random_state = 42)"
   ]
  },
  {
   "cell_type": "code",
   "execution_count": 81,
   "metadata": {},
   "outputs": [
    {
     "data": {
      "text/plain": [
       "LogisticRegression(C=1.0, class_weight=None, dual=False, fit_intercept=True,\n",
       "                   intercept_scaling=1, l1_ratio=None, max_iter=100,\n",
       "                   multi_class='warn', n_jobs=None, penalty='l2',\n",
       "                   random_state=None, solver='liblinear', tol=0.0001, verbose=0,\n",
       "                   warm_start=False)"
      ]
     },
     "execution_count": 81,
     "metadata": {},
     "output_type": "execute_result"
    }
   ],
   "source": [
    "loj = LogisticRegression(solver= 'liblinear')\n",
    "loj_model=loj.fit(X_train,y_train)\n",
    "loj_model"
   ]
  },
  {
   "cell_type": "code",
   "execution_count": 82,
   "metadata": {},
   "outputs": [
    {
     "data": {
      "text/plain": [
       "0.8533519553072626"
      ]
     },
     "execution_count": 82,
     "metadata": {},
     "output_type": "execute_result"
    }
   ],
   "source": [
    "accuracy_score(y_test, loj_model.predict(X_test))"
   ]
  },
  {
   "cell_type": "code",
   "execution_count": 83,
   "metadata": {},
   "outputs": [],
   "source": [
    "y_pred = loj_model.predict(X_test)"
   ]
  },
  {
   "cell_type": "code",
   "execution_count": 84,
   "metadata": {},
   "outputs": [
    {
     "name": "stdout",
     "output_type": "stream",
     "text": [
      "              precision    recall  f1-score   support\n",
      "\n",
      "           0       0.89      0.93      0.91       591\n",
      "           1       0.60      0.48      0.53       125\n",
      "\n",
      "    accuracy                           0.85       716\n",
      "   macro avg       0.75      0.71      0.72       716\n",
      "weighted avg       0.84      0.85      0.85       716\n",
      "\n"
     ]
    }
   ],
   "source": [
    "print(classification_report(y_test,y_pred))"
   ]
  },
  {
   "cell_type": "code",
   "execution_count": 85,
   "metadata": {},
   "outputs": [
    {
     "data": {
      "text/plain": [
       "0.8535918708598624"
      ]
     },
     "execution_count": 85,
     "metadata": {},
     "output_type": "execute_result"
    }
   ],
   "source": [
    "cross_val_score(loj_model , X_test, y_test , cv = 10).mean()"
   ]
  },
  {
   "cell_type": "code",
   "execution_count": null,
   "metadata": {},
   "outputs": [],
   "source": []
  }
 ],
 "metadata": {
  "kernelspec": {
   "display_name": "Python 3",
   "language": "python",
   "name": "python3"
  },
  "language_info": {
   "codemirror_mode": {
    "name": "ipython",
    "version": 3
   },
   "file_extension": ".py",
   "mimetype": "text/x-python",
   "name": "python",
   "nbconvert_exporter": "python",
   "pygments_lexer": "ipython3",
   "version": "3.7.4"
  }
 },
 "nbformat": 4,
 "nbformat_minor": 2
}
